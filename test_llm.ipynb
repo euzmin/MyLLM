{
 "cells": [
  {
   "cell_type": "code",
   "execution_count": null,
   "id": "57a32334",
   "metadata": {},
   "outputs": [],
   "source": [
    "from transformers import AutoTokenizer, AutoModelForCausalLM, AutoConfig\n",
    "import torch\n",
    "from models.myllm import MyLLM, Config"
   ]
  },
  {
   "cell_type": "code",
   "execution_count": 2,
   "id": "042d9b07",
   "metadata": {},
   "outputs": [],
   "source": [
    "tokenizer = AutoTokenizer.from_pretrained(\"gpt2\")\n",
    "AutoConfig.register(\"small_model\",Config)\n",
    "AutoModelForCausalLM.register(Config, MyLLM)"
   ]
  },
  {
   "cell_type": "code",
   "execution_count": null,
   "id": "ed6dc1c6",
   "metadata": {},
   "outputs": [],
   "source": [
    "model = AutoModelForCausalLM.from_pretrained('./results/checkpoint-6000')"
   ]
  },
  {
   "cell_type": "code",
   "execution_count": null,
   "id": "4f1ca61f",
   "metadata": {},
   "outputs": [
    {
     "ename": "NameError",
     "evalue": "name 'tokenizer' is not defined",
     "output_type": "error",
     "traceback": [
      "\u001b[1;31m---------------------------------------------------------------------------\u001b[0m",
      "\u001b[1;31mNameError\u001b[0m                                 Traceback (most recent call last)",
      "Cell \u001b[1;32mIn[3], line 2\u001b[0m\n\u001b[0;32m      1\u001b[0m \u001b[38;5;66;03m# BOS, Beginning Of Sentence\u001b[39;00m\n\u001b[1;32m----> 2\u001b[0m input_data \u001b[38;5;241m=\u001b[39m [\u001b[43mtokenizer\u001b[49m\u001b[38;5;241m.\u001b[39mbos_token_id] \u001b[38;5;241m+\u001b[39m tokenizer\u001b[38;5;241m.\u001b[39mencode(\u001b[38;5;124m'\u001b[39m\u001b[38;5;124m死亡是生物进化的选择吗？\u001b[39m\u001b[38;5;124m'\u001b[39m)\n\u001b[0;32m      3\u001b[0m \u001b[38;5;28mprint\u001b[39m(input_data)\n\u001b[0;32m      5\u001b[0m \u001b[38;5;28;01mfor\u001b[39;00m token \u001b[38;5;129;01min\u001b[39;00m model\u001b[38;5;241m.\u001b[39mgenerate({\u001b[38;5;124m\"\u001b[39m\u001b[38;5;124minput_ids\u001b[39m\u001b[38;5;124m\"\u001b[39m:torch\u001b[38;5;241m.\u001b[39mtensor(input_data)\u001b[38;5;241m.\u001b[39munsqueeze(\u001b[38;5;241m0\u001b[39m), \u001b[38;5;124m\"\u001b[39m\u001b[38;5;124mlabels\u001b[39m\u001b[38;5;124m\"\u001b[39m:\u001b[38;5;28;01mNone\u001b[39;00m},\n\u001b[0;32m      6\u001b[0m                              tokenizer\u001b[38;5;241m.\u001b[39meos_token_id, max_new_token\u001b[38;5;241m=\u001b[39m\u001b[38;5;241m500\u001b[39m,stream\u001b[38;5;241m=\u001b[39m\u001b[38;5;28;01mFalse\u001b[39;00m, temperature\u001b[38;5;241m=\u001b[39m\u001b[38;5;241m0.5\u001b[39m, top_k\u001b[38;5;241m=\u001b[39m\u001b[38;5;241m8\u001b[39m):\n",
      "\u001b[1;31mNameError\u001b[0m: name 'tokenizer' is not defined"
     ]
    }
   ],
   "source": [
    "# BOS, Beginning Of Sentence\n",
    "input_data = [tokenizer.bos_token_id] + tokenizer.encode('死亡是生物进化的选择吗？')\n",
    "print(input_data)\n",
    "input_ids = torch.tensor(input_data).unsqueeze(0)\n",
    "print(input_ids.shape[1])\n",
    "for token in model.generate(input_ids,\n",
    "                             tokenizer.eos_token_id, max_new_tokens=500,\n",
    "                             stream=False, temperature=0.5, top_k=8):\n",
    "    print(tokenizer.decode(token[0]))\n"
   ]
  },
  {
   "cell_type": "code",
   "execution_count": null,
   "id": "7afc3371",
   "metadata": {},
   "outputs": [],
   "source": []
  }
 ],
 "metadata": {
  "kernelspec": {
   "display_name": "base",
   "language": "python",
   "name": "python3"
  },
  "language_info": {
   "codemirror_mode": {
    "name": "ipython",
    "version": 3
   },
   "file_extension": ".py",
   "mimetype": "text/x-python",
   "name": "python",
   "nbconvert_exporter": "python",
   "pygments_lexer": "ipython3",
   "version": "3.10.9"
  }
 },
 "nbformat": 4,
 "nbformat_minor": 5
}
