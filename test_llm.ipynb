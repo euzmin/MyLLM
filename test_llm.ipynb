{
 "cells": [
  {
   "cell_type": "code",
   "execution_count": null,
   "id": "57a32334",
   "metadata": {},
   "outputs": [],
   "source": [
    "from transformers import AutoTokenizer, AutoModelForCausalLM, AutoConfig\n",
    "import torch\n",
    "from models.myllm import MyLLM, Config"
   ]
  },
  {
   "cell_type": "code",
   "execution_count": 2,
   "id": "042d9b07",
   "metadata": {},
   "outputs": [],
   "source": [
    "tokenizer = AutoTokenizer.from_pretrained(\"gpt2\")\n",
    "AutoConfig.register(\"small_model\",Config)\n",
    "AutoModelForCausalLM.register(Config, MyLLM)"
   ]
  },
  {
   "cell_type": "code",
   "execution_count": null,
   "id": "ed6dc1c6",
   "metadata": {},
   "outputs": [],
   "source": [
    "model = AutoModelForCausalLM.from_pretrained('./results/checkpoint-6000')"
   ]
  },
  {
   "cell_type": "code",
   "execution_count": null,
   "id": "4f1ca61f",
   "metadata": {},
   "outputs": [],
   "source": [
    "# BOS, Beginning Of Sentence\n",
    "input_data = [tokenizer.bos_token_id] + tokenizer.encode('死亡是生物进化的选择吗？')\n",
    "print(input_data)\n",
    "\n",
    "for token in model.generate({\"input_ids\":torch.tensor(input_data).unsqueeze(0), \"labels\":None},\n",
    "                             tokenizer.eos_token_id, stream=False, temperature=0.5, top_k=8):\n",
    "    print(tokenizer.decode(token[0]))\n"
   ]
  },
  {
   "cell_type": "code",
   "execution_count": null,
   "id": "7afc3371",
   "metadata": {},
   "outputs": [],
   "source": []
  }
 ],
 "metadata": {
  "kernelspec": {
   "display_name": "base",
   "language": "python",
   "name": "python3"
  },
  "language_info": {
   "codemirror_mode": {
    "name": "ipython",
    "version": 3
   },
   "file_extension": ".py",
   "mimetype": "text/x-python",
   "name": "python",
   "nbconvert_exporter": "python",
   "pygments_lexer": "ipython3",
   "version": "3.10.9"
  }
 },
 "nbformat": 4,
 "nbformat_minor": 5
}
